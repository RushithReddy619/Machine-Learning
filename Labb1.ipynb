{
 "cells": [
  {
   "cell_type": "code",
   "execution_count": 1,
   "id": "809ab5b6-044c-4c98-be39-6339c64cff07",
   "metadata": {},
   "outputs": [
    {
     "name": "stdin",
     "output_type": "stream",
     "text": [
      "Enter a word\n",
      " rushitheui\n"
     ]
    },
    {
     "name": "stdout",
     "output_type": "stream",
     "text": [
      "Vowel Count in the input: 5\n",
      "Consonants Count in the input: 5\n"
     ]
    }
   ],
   "source": [
    "input = input('Enter a word\\n')\n",
    "\n",
    "wholevowels = 'AEIOUaeiou'\n",
    "wholeconsonants = 'BCDFGHJKLMNPQRSTVWXYZbcdfghjklmnpqrstvwxyz'\n",
    "\n",
    "vowelsvalue = 0\n",
    "consonantsvalue = 0\n",
    "\n",
    "for char in input:\n",
    "    if char in wholevowels:\n",
    "        vowelsvalue += 1\n",
    "    elif char in wholeconsonants:\n",
    "        consonantsvalue += 1\n",
    "\n",
    "print(\"Vowel Count in the input:\", vowelsvalue)\n",
    "print(\"Consonants Count in the input:\", consonantsvalue)"
   ]
  },
  {
   "cell_type": "code",
   "execution_count": 6,
   "id": "e5ac8424-f974-49c9-93b5-d8b85b8a2d60",
   "metadata": {},
   "outputs": [
    {
     "name": "stdout",
     "output_type": "stream",
     "text": [
      "[[58, 64], [139, 154]]\n"
     ]
    }
   ],
   "source": [
    "def matrices_multiplication(X, Y):\n",
    "    if len(X[0]) != len(Y):\n",
    "        return \"Error,Matrices X and Y are not multipliable.\"\n",
    "\n",
    "    res = [[0 for _ in range(len(Y[0]))] for _ in range(len(X))]\n",
    "\n",
    "    for i in range(len(X)):\n",
    "        for j in range(len(Y[0])):\n",
    "            for k in range(len(Y)):\n",
    "                res[i][j] += X[i][k] * Y[k][j]\n",
    "\n",
    "    return res\n",
    "\n",
    "# Example matrices A and B\n",
    "X = [[1, 2, 3],\n",
    "     [4, 5, 6]]\n",
    "Y = [[7, 8],\n",
    "     [9, 10],\n",
    "     [11, 12]]\n",
    "\n",
    "answer = matrices_multiplication(X, Y)\n",
    "print(answer)"
   ]
  },
  {
   "cell_type": "code",
   "execution_count": 8,
   "id": "1900138b-35f6-44c9-8265-12b9d0511e7e",
   "metadata": {},
   "outputs": [
    {
     "name": "stdout",
     "output_type": "stream",
     "text": [
      "3\n"
     ]
    }
   ],
   "source": [
    "def countof_comm_ele(lis1, lis2):\n",
    "    set1 = set(lis1)\n",
    "    set2 = set(lis2)\n",
    "    comm_elements = set1.intersection(set2)\n",
    "    return len(comm_elements)\n",
    "\n",
    "# Example lists\n",
    "lis1 = [1, 2, 3, 4, 5]\n",
    "lis2 = [3, 4, 5, 6, 7]\n",
    "\n",
    "answer_count = countof_comm_ele(lis1, lis2)\n",
    "print(answer_count)"
   ]
  },
  {
   "cell_type": "code",
   "execution_count": 10,
   "id": "5b8ab9ae-bd53-4637-8949-c9cf0194dbc4",
   "metadata": {},
   "outputs": [
    {
     "name": "stdout",
     "output_type": "stream",
     "text": [
      "[1, 4, 7]\n",
      "[2, 5, 8]\n",
      "[3, 6, 9]\n"
     ]
    }
   ],
   "source": [
    "def transpose_a_matrix(mat):\n",
    "    # Get the number of rows and columns in the matrix\n",
    "    rows = len(mat)\n",
    "    cols = len(mat[0])\n",
    "\n",
    "    # Create a new matrix to store the transpose\n",
    "    transpose = [[0 for _ in range(rows)] for _ in range(cols)]\n",
    "\n",
    "    # Compute the transpose\n",
    "    for i in range(rows):\n",
    "        for j in range(cols):\n",
    "            transpose[j][i] = mat[i][j]\n",
    "\n",
    "    return transpose\n",
    "\n",
    "# Example matrix\n",
    "mat = [[1, 2, 3],\n",
    "          [4, 5, 6],\n",
    "          [7, 8, 9]]\n",
    "\n",
    "already_transposed_matrix = transpose_a_matrix(matrix)\n",
    "for row in already_transposed_matrix:\n",
    "    print(row)"
   ]
  },
  {
   "cell_type": "code",
   "execution_count": null,
   "id": "a3e2cf26-1cb2-4afb-af3b-efd2c2779808",
   "metadata": {},
   "outputs": [],
   "source": []
  }
 ],
 "metadata": {
  "kernelspec": {
   "display_name": "Python 3 (ipykernel)",
   "language": "python",
   "name": "python3"
  },
  "language_info": {
   "codemirror_mode": {
    "name": "ipython",
    "version": 3
   },
   "file_extension": ".py",
   "mimetype": "text/x-python",
   "name": "python",
   "nbconvert_exporter": "python",
   "pygments_lexer": "ipython3",
   "version": "3.12.4"
  }
 },
 "nbformat": 4,
 "nbformat_minor": 5
}
